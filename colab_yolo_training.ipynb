{
 "cells": [
  {
   "cell_type": "code",
   "execution_count": null,
   "id": "initial_id",
   "metadata": {
    "collapsed": true
   },
   "outputs": [],
   "source": [
    ""
   ]
  },
  {
   "metadata": {
    "ExecuteTime": {
     "end_time": "2024-08-09T08:30:57.828535Z",
     "start_time": "2024-08-09T08:30:46.036262Z"
    }
   },
   "cell_type": "code",
   "source": [
    "!git clone https://github.com/WongKinYiu/yolov7.git\n",
    "%cd yolov7\n",
    "!pip install -r requirements.txt''"
   ],
   "id": "cce2bd1369e2fae6",
   "outputs": [
    {
     "name": "stdout",
     "output_type": "stream",
     "text": [
      "Cloning into 'yolov7'...\r\n",
      "remote: Enumerating objects: 1197, done.\u001B[K\r\n",
      "remote: Total 1197 (delta 0), reused 0 (delta 0), pack-reused 1197\u001B[K\r\n",
      "Receiving objects: 100% (1197/1197), 74.23 MiB | 15.73 MiB/s, done.\r\n",
      "Resolving deltas: 100% (520/520), done.\r\n",
      "/Users/leonpaletta/Coding/Cybathlon/recognition/yolov7\n",
      "Requirement already satisfied: matplotlib>=3.2.2 in /Users/leonpaletta/miniconda3/envs/cy/lib/python3.9/site-packages (from -r requirements.txt (line 4)) (3.8.4)\r\n",
      "Collecting numpy<1.24.0,>=1.18.5 (from -r requirements.txt (line 5))\r\n",
      "  Downloading numpy-1.23.5-cp39-cp39-macosx_11_0_arm64.whl.metadata (2.3 kB)\r\n",
      "Requirement already satisfied: opencv-python>=4.1.1 in /Users/leonpaletta/miniconda3/envs/cy/lib/python3.9/site-packages (from -r requirements.txt (line 6)) (4.9.0)\r\n",
      "Requirement already satisfied: Pillow>=7.1.2 in /Users/leonpaletta/miniconda3/envs/cy/lib/python3.9/site-packages (from -r requirements.txt (line 7)) (10.3.0)\r\n",
      "Requirement already satisfied: PyYAML>=5.3.1 in /Users/leonpaletta/miniconda3/envs/cy/lib/python3.9/site-packages (from -r requirements.txt (line 8)) (6.0.1)\r\n",
      "Requirement already satisfied: requests>=2.23.0 in /Users/leonpaletta/miniconda3/envs/cy/lib/python3.9/site-packages (from -r requirements.txt (line 9)) (2.32.2)\r\n",
      "Requirement already satisfied: scipy>=1.4.1 in /Users/leonpaletta/miniconda3/envs/cy/lib/python3.9/site-packages (from -r requirements.txt (line 10)) (1.13.1)\r\n",
      "Requirement already satisfied: torch!=1.12.0,>=1.7.0 in /Users/leonpaletta/miniconda3/envs/cy/lib/python3.9/site-packages (from -r requirements.txt (line 11)) (2.3.0)\r\n",
      "Requirement already satisfied: torchvision!=0.13.0,>=0.8.1 in /Users/leonpaletta/miniconda3/envs/cy/lib/python3.9/site-packages (from -r requirements.txt (line 12)) (0.18.0a0)\r\n",
      "Collecting tqdm>=4.41.0 (from -r requirements.txt (line 13))\r\n",
      "  Using cached tqdm-4.66.5-py3-none-any.whl.metadata (57 kB)\r\n",
      "Collecting protobuf<4.21.3 (from -r requirements.txt (line 14))\r\n",
      "  Downloading protobuf-4.21.2-cp37-abi3-macosx_10_9_universal2.whl.metadata (540 bytes)\r\n",
      "Requirement already satisfied: tensorboard>=2.4.1 in /Users/leonpaletta/miniconda3/envs/cy/lib/python3.9/site-packages (from -r requirements.txt (line 17)) (2.16.2)\r\n",
      "Requirement already satisfied: pandas>=1.1.4 in /Users/leonpaletta/miniconda3/envs/cy/lib/python3.9/site-packages (from -r requirements.txt (line 21)) (2.2.2)\r\n",
      "Requirement already satisfied: seaborn>=0.11.0 in /Users/leonpaletta/miniconda3/envs/cy/lib/python3.9/site-packages (from -r requirements.txt (line 22)) (0.13.2)\r\n",
      "Requirement already satisfied: ipython in /Users/leonpaletta/miniconda3/envs/cy/lib/python3.9/site-packages (from -r requirements.txt (line 34)) (8.12.0)\r\n",
      "Requirement already satisfied: psutil in /Users/leonpaletta/miniconda3/envs/cy/lib/python3.9/site-packages (from -r requirements.txt (line 35)) (5.9.8)\r\n",
      "Collecting thop (from -r requirements.txt (line 36))\r\n",
      "  Downloading thop-0.1.1.post2209072238-py3-none-any.whl.metadata (2.7 kB)\r\n",
      "Requirement already satisfied: contourpy>=1.0.1 in /Users/leonpaletta/miniconda3/envs/cy/lib/python3.9/site-packages (from matplotlib>=3.2.2->-r requirements.txt (line 4)) (1.2.1)\r\n",
      "Requirement already satisfied: cycler>=0.10 in /Users/leonpaletta/miniconda3/envs/cy/lib/python3.9/site-packages (from matplotlib>=3.2.2->-r requirements.txt (line 4)) (0.12.1)\r\n",
      "Requirement already satisfied: fonttools>=4.22.0 in /Users/leonpaletta/miniconda3/envs/cy/lib/python3.9/site-packages (from matplotlib>=3.2.2->-r requirements.txt (line 4)) (4.52.4)\r\n",
      "Requirement already satisfied: kiwisolver>=1.3.1 in /Users/leonpaletta/miniconda3/envs/cy/lib/python3.9/site-packages (from matplotlib>=3.2.2->-r requirements.txt (line 4)) (1.4.5)\r\n",
      "Requirement already satisfied: packaging>=20.0 in /Users/leonpaletta/miniconda3/envs/cy/lib/python3.9/site-packages (from matplotlib>=3.2.2->-r requirements.txt (line 4)) (24.0)\r\n",
      "Requirement already satisfied: pyparsing>=2.3.1 in /Users/leonpaletta/miniconda3/envs/cy/lib/python3.9/site-packages (from matplotlib>=3.2.2->-r requirements.txt (line 4)) (3.1.2)\r\n",
      "Requirement already satisfied: python-dateutil>=2.7 in /Users/leonpaletta/miniconda3/envs/cy/lib/python3.9/site-packages (from matplotlib>=3.2.2->-r requirements.txt (line 4)) (2.9.0)\r\n",
      "Requirement already satisfied: importlib-resources>=3.2.0 in /Users/leonpaletta/miniconda3/envs/cy/lib/python3.9/site-packages (from matplotlib>=3.2.2->-r requirements.txt (line 4)) (6.4.0)\r\n",
      "Requirement already satisfied: charset-normalizer<4,>=2 in /Users/leonpaletta/miniconda3/envs/cy/lib/python3.9/site-packages (from requests>=2.23.0->-r requirements.txt (line 9)) (3.3.2)\r\n",
      "Requirement already satisfied: idna<4,>=2.5 in /Users/leonpaletta/miniconda3/envs/cy/lib/python3.9/site-packages (from requests>=2.23.0->-r requirements.txt (line 9)) (3.7)\r\n",
      "Requirement already satisfied: urllib3<3,>=1.21.1 in /Users/leonpaletta/miniconda3/envs/cy/lib/python3.9/site-packages (from requests>=2.23.0->-r requirements.txt (line 9)) (2.2.1)\r\n",
      "Requirement already satisfied: certifi>=2017.4.17 in /Users/leonpaletta/miniconda3/envs/cy/lib/python3.9/site-packages (from requests>=2.23.0->-r requirements.txt (line 9)) (2024.6.2)\r\n",
      "Requirement already satisfied: filelock in /Users/leonpaletta/miniconda3/envs/cy/lib/python3.9/site-packages (from torch!=1.12.0,>=1.7.0->-r requirements.txt (line 11)) (3.14.0)\r\n",
      "Requirement already satisfied: typing-extensions>=4.8.0 in /Users/leonpaletta/miniconda3/envs/cy/lib/python3.9/site-packages (from torch!=1.12.0,>=1.7.0->-r requirements.txt (line 11)) (4.11.0)\r\n",
      "Requirement already satisfied: sympy in /Users/leonpaletta/miniconda3/envs/cy/lib/python3.9/site-packages (from torch!=1.12.0,>=1.7.0->-r requirements.txt (line 11)) (1.12)\r\n",
      "Requirement already satisfied: networkx in /Users/leonpaletta/miniconda3/envs/cy/lib/python3.9/site-packages (from torch!=1.12.0,>=1.7.0->-r requirements.txt (line 11)) (2.8.8)\r\n",
      "Requirement already satisfied: jinja2 in /Users/leonpaletta/miniconda3/envs/cy/lib/python3.9/site-packages (from torch!=1.12.0,>=1.7.0->-r requirements.txt (line 11)) (3.1.4)\r\n",
      "Requirement already satisfied: fsspec in /Users/leonpaletta/miniconda3/envs/cy/lib/python3.9/site-packages (from torch!=1.12.0,>=1.7.0->-r requirements.txt (line 11)) (2024.5.0)\r\n",
      "Requirement already satisfied: absl-py>=0.4 in /Users/leonpaletta/miniconda3/envs/cy/lib/python3.9/site-packages (from tensorboard>=2.4.1->-r requirements.txt (line 17)) (2.1.0)\r\n",
      "Requirement already satisfied: grpcio>=1.48.2 in /Users/leonpaletta/miniconda3/envs/cy/lib/python3.9/site-packages (from tensorboard>=2.4.1->-r requirements.txt (line 17)) (1.64.0)\r\n",
      "Requirement already satisfied: markdown>=2.6.8 in /Users/leonpaletta/miniconda3/envs/cy/lib/python3.9/site-packages (from tensorboard>=2.4.1->-r requirements.txt (line 17)) (3.6)\r\n",
      "Requirement already satisfied: setuptools>=41.0.0 in /Users/leonpaletta/miniconda3/envs/cy/lib/python3.9/site-packages (from tensorboard>=2.4.1->-r requirements.txt (line 17)) (69.5.1)\r\n",
      "Requirement already satisfied: six>1.9 in /Users/leonpaletta/miniconda3/envs/cy/lib/python3.9/site-packages (from tensorboard>=2.4.1->-r requirements.txt (line 17)) (1.16.0)\r\n",
      "Requirement already satisfied: tensorboard-data-server<0.8.0,>=0.7.0 in /Users/leonpaletta/miniconda3/envs/cy/lib/python3.9/site-packages (from tensorboard>=2.4.1->-r requirements.txt (line 17)) (0.7.2)\r\n",
      "Requirement already satisfied: werkzeug>=1.0.1 in /Users/leonpaletta/miniconda3/envs/cy/lib/python3.9/site-packages (from tensorboard>=2.4.1->-r requirements.txt (line 17)) (3.0.3)\r\n",
      "Requirement already satisfied: pytz>=2020.1 in /Users/leonpaletta/miniconda3/envs/cy/lib/python3.9/site-packages (from pandas>=1.1.4->-r requirements.txt (line 21)) (2024.1)\r\n",
      "Requirement already satisfied: tzdata>=2022.7 in /Users/leonpaletta/miniconda3/envs/cy/lib/python3.9/site-packages (from pandas>=1.1.4->-r requirements.txt (line 21)) (2024.1)\r\n",
      "Requirement already satisfied: backcall in /Users/leonpaletta/miniconda3/envs/cy/lib/python3.9/site-packages (from ipython->-r requirements.txt (line 34)) (0.2.0)\r\n",
      "Requirement already satisfied: decorator in /Users/leonpaletta/miniconda3/envs/cy/lib/python3.9/site-packages (from ipython->-r requirements.txt (line 34)) (5.1.1)\r\n",
      "Requirement already satisfied: jedi>=0.16 in /Users/leonpaletta/miniconda3/envs/cy/lib/python3.9/site-packages (from ipython->-r requirements.txt (line 34)) (0.19.1)\r\n",
      "Requirement already satisfied: matplotlib-inline in /Users/leonpaletta/miniconda3/envs/cy/lib/python3.9/site-packages (from ipython->-r requirements.txt (line 34)) (0.1.7)\r\n",
      "Requirement already satisfied: pickleshare in /Users/leonpaletta/miniconda3/envs/cy/lib/python3.9/site-packages (from ipython->-r requirements.txt (line 34)) (0.7.5)\r\n",
      "Requirement already satisfied: prompt-toolkit!=3.0.37,<3.1.0,>=3.0.30 in /Users/leonpaletta/miniconda3/envs/cy/lib/python3.9/site-packages (from ipython->-r requirements.txt (line 34)) (3.0.42)\r\n",
      "Requirement already satisfied: pygments>=2.4.0 in /Users/leonpaletta/miniconda3/envs/cy/lib/python3.9/site-packages (from ipython->-r requirements.txt (line 34)) (2.18.0)\r\n",
      "Requirement already satisfied: stack-data in /Users/leonpaletta/miniconda3/envs/cy/lib/python3.9/site-packages (from ipython->-r requirements.txt (line 34)) (0.6.2)\r\n",
      "Requirement already satisfied: traitlets>=5 in /Users/leonpaletta/miniconda3/envs/cy/lib/python3.9/site-packages (from ipython->-r requirements.txt (line 34)) (5.14.3)\r\n",
      "Requirement already satisfied: pexpect>4.3 in /Users/leonpaletta/miniconda3/envs/cy/lib/python3.9/site-packages (from ipython->-r requirements.txt (line 34)) (4.9.0)\r\n",
      "Requirement already satisfied: appnope in /Users/leonpaletta/miniconda3/envs/cy/lib/python3.9/site-packages (from ipython->-r requirements.txt (line 34)) (0.1.4)\r\n",
      "Requirement already satisfied: zipp>=3.1.0 in /Users/leonpaletta/miniconda3/envs/cy/lib/python3.9/site-packages (from importlib-resources>=3.2.0->matplotlib>=3.2.2->-r requirements.txt (line 4)) (3.17.0)\r\n",
      "Requirement already satisfied: parso<0.9.0,>=0.8.3 in /Users/leonpaletta/miniconda3/envs/cy/lib/python3.9/site-packages (from jedi>=0.16->ipython->-r requirements.txt (line 34)) (0.8.4)\r\n",
      "Requirement already satisfied: importlib-metadata>=4.4 in /Users/leonpaletta/miniconda3/envs/cy/lib/python3.9/site-packages (from markdown>=2.6.8->tensorboard>=2.4.1->-r requirements.txt (line 17)) (7.1.0)\r\n",
      "Requirement already satisfied: ptyprocess>=0.5 in /Users/leonpaletta/miniconda3/envs/cy/lib/python3.9/site-packages (from pexpect>4.3->ipython->-r requirements.txt (line 34)) (0.7.0)\r\n",
      "Requirement already satisfied: wcwidth in /Users/leonpaletta/miniconda3/envs/cy/lib/python3.9/site-packages (from prompt-toolkit!=3.0.37,<3.1.0,>=3.0.30->ipython->-r requirements.txt (line 34)) (0.2.13)\r\n",
      "Requirement already satisfied: MarkupSafe>=2.1.1 in /Users/leonpaletta/miniconda3/envs/cy/lib/python3.9/site-packages (from werkzeug>=1.0.1->tensorboard>=2.4.1->-r requirements.txt (line 17)) (2.1.5)\r\n",
      "Requirement already satisfied: executing>=1.2.0 in /Users/leonpaletta/miniconda3/envs/cy/lib/python3.9/site-packages (from stack-data->ipython->-r requirements.txt (line 34)) (2.0.1)\r\n",
      "Requirement already satisfied: asttokens>=2.1.0 in /Users/leonpaletta/miniconda3/envs/cy/lib/python3.9/site-packages (from stack-data->ipython->-r requirements.txt (line 34)) (2.4.1)\r\n",
      "Requirement already satisfied: pure-eval in /Users/leonpaletta/miniconda3/envs/cy/lib/python3.9/site-packages (from stack-data->ipython->-r requirements.txt (line 34)) (0.2.2)\r\n",
      "Requirement already satisfied: mpmath>=0.19 in /Users/leonpaletta/miniconda3/envs/cy/lib/python3.9/site-packages (from sympy->torch!=1.12.0,>=1.7.0->-r requirements.txt (line 11)) (1.3.0)\r\n",
      "Downloading numpy-1.23.5-cp39-cp39-macosx_11_0_arm64.whl (13.4 MB)\r\n",
      "\u001B[2K   \u001B[90m━━━━━━━━━━━━━━━━━━━━━━━━━━━━━━━━━━━━━━━━\u001B[0m \u001B[32m13.4/13.4 MB\u001B[0m \u001B[31m12.5 MB/s\u001B[0m eta \u001B[36m0:00:00\u001B[0m00:01\u001B[0m00:01\u001B[0m\r\n",
      "\u001B[?25hUsing cached tqdm-4.66.5-py3-none-any.whl (78 kB)\r\n",
      "Downloading protobuf-4.21.2-cp37-abi3-macosx_10_9_universal2.whl (483 kB)\r\n",
      "\u001B[2K   \u001B[90m━━━━━━━━━━━━━━━━━━━━━━━━━━━━━━━━━━━━━━━━\u001B[0m \u001B[32m483.1/483.1 kB\u001B[0m \u001B[31m15.7 MB/s\u001B[0m eta \u001B[36m0:00:00\u001B[0m\r\n",
      "\u001B[?25hDownloading thop-0.1.1.post2209072238-py3-none-any.whl (15 kB)\r\n",
      "Installing collected packages: tqdm, protobuf, numpy, thop\r\n",
      "  Attempting uninstall: protobuf\r\n",
      "    Found existing installation: protobuf 4.25.3\r\n",
      "    Uninstalling protobuf-4.25.3:\r\n",
      "      Successfully uninstalled protobuf-4.25.3\r\n",
      "  Attempting uninstall: numpy\r\n",
      "    Found existing installation: numpy 1.26.4\r\n",
      "    Uninstalling numpy-1.26.4:\r\n",
      "      Successfully uninstalled numpy-1.26.4\r\n",
      "\u001B[31mERROR: pip's dependency resolver does not currently take into account all the packages that are installed. This behaviour is the source of the following dependency conflicts.\r\n",
      "mediapipe 0.10.14 requires protobuf<5,>=4.25.3, but you have protobuf 4.21.2 which is incompatible.\r\n",
      "tensorflow 2.16.1 requires ml-dtypes~=0.3.1, but you have ml-dtypes 0.4.0 which is incompatible.\r\n",
      "tensorflow 2.16.1 requires protobuf!=4.21.0,!=4.21.1,!=4.21.2,!=4.21.3,!=4.21.4,!=4.21.5,<5.0.0dev,>=3.20.3, but you have protobuf 4.21.2 which is incompatible.\u001B[0m\u001B[31m\r\n",
      "\u001B[0mSuccessfully installed numpy-1.23.5 protobuf-4.21.2 thop-0.1.1.post2209072238 tqdm-4.66.5\r\n"
     ]
    }
   ],
   "execution_count": 1
  },
  {
   "metadata": {
    "ExecuteTime": {
     "end_time": "2024-08-09T08:37:29.347582Z",
     "start_time": "2024-08-09T08:37:22.380840Z"
    }
   },
   "cell_type": "code",
   "source": "!python train_aux.py --workers 8 --device 0 --batch-size 16 --data /Users/leonpaletta/Coding/Cybathlon/recognition/data_yolo/custom.yaml --img 1280 1280 --cfg /Users/leonpaletta/Coding/Cybathlon/recognition/data_yolo/yolov7-e6e.yaml --weights '/Users/leonpaletta/Coding/Cybathlon/recognition/data_yolo/yolov7-e6e_training.pt' --name yolov7-w6-custom --hyp /Users/leonpaletta/Coding/Cybathlon/recognition/data_yolo/hyp.scratch.p6.yaml\n",
   "id": "469c523288d7972e",
   "outputs": [
    {
     "name": "stdout",
     "output_type": "stream",
     "text": [
      "Traceback (most recent call last):\r\n",
      "  File \"/Users/leonpaletta/Coding/Cybathlon/recognition/yolov7/train_aux.py\", line 591, in <module>\r\n",
      "    device = select_device(opt.device, batch_size=opt.batch_size)\r\n",
      "  File \"/Users/leonpaletta/Coding/Cybathlon/recognition/yolov7/utils/torch_utils.py\", line 71, in select_device\r\n",
      "    assert torch.cuda.is_available(), f'CUDA unavailable, invalid device {device} requested'  # check availability\r\n",
      "AssertionError: CUDA unavailable, invalid device 0 requested\r\n"
     ]
    }
   ],
   "execution_count": 3
  },
  {
   "metadata": {},
   "cell_type": "code",
   "outputs": [],
   "execution_count": null,
   "source": "",
   "id": "8590b120ff0c6deb"
  }
 ],
 "metadata": {
  "kernelspec": {
   "display_name": "Python 3",
   "language": "python",
   "name": "python3"
  },
  "language_info": {
   "codemirror_mode": {
    "name": "ipython",
    "version": 2
   },
   "file_extension": ".py",
   "mimetype": "text/x-python",
   "name": "python",
   "nbconvert_exporter": "python",
   "pygments_lexer": "ipython2",
   "version": "2.7.6"
  }
 },
 "nbformat": 4,
 "nbformat_minor": 5
}
