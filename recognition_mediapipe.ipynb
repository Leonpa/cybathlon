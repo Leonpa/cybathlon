{
 "cells": [
  {
   "cell_type": "code",
   "id": "initial_id",
   "metadata": {
    "collapsed": true,
    "jupyter": {
     "is_executing": true
    }
   },
   "source": [
    "import cv2\n",
    "import matplotlib.pyplot as plt\n",
    "import numpy as np\n",
    "import mediapipe as mp\n",
    "from mediapipe.tasks import python\n",
    "from mediapipe.tasks.python import vision\n",
    "\n",
    "# Path to your local image file\n",
    "IMAGE_FILE = 'data/train/images/picture172.jpg'\n",
    "\n",
    "# Display the image using OpenCV\n",
    "img = cv2.imread(IMAGE_FILE)\n",
    "cv2.imshow('Image', img)\n",
    "cv2.waitKey(0)\n",
    "cv2.destroyAllWindows()"
   ],
   "outputs": [],
   "execution_count": null
  },
  {
   "metadata": {
    "jupyter": {
     "is_executing": true
    }
   },
   "cell_type": "code",
   "source": [
    "# STEP 2: Create an ObjectDetector object with your custom model.\n",
    "base_options = python.BaseOptions(model_asset_path='models/model.tflite')\n",
    "options = vision.ObjectDetectorOptions(base_options=base_options,\n",
    "                                       score_threshold=0.5)\n",
    "detector = vision.ObjectDetector.create_from_options(options)\n",
    "\n",
    "# STEP 3: Load the input image.\n",
    "image = mp.Image.create_from_file(IMAGE_FILE)\n",
    "\n",
    "# STEP 4: Detect objects in the input image.\n",
    "detection_result = detector.detect(image)"
   ],
   "id": "744d00f1ad52e6a9",
   "outputs": [],
   "execution_count": null
  },
  {
   "metadata": {
    "jupyter": {
     "is_executing": true
    }
   },
   "cell_type": "code",
   "source": [
    "# STEP 5: Process the detection result. In this case, visualize it.\n",
    "def visualize(image, detection_result):\n",
    "    for detection in detection_result.detections:\n",
    "        bbox = detection.bounding_box\n",
    "        start_point = (int(bbox.origin_x), int(bbox.origin_y))\n",
    "        end_point = (int(bbox.origin_x + bbox.width), int(bbox.origin_y + bbox.height))\n",
    "        color = (0, 255, 0)  # Green color for the bounding box.\n",
    "        thickness = 2\n",
    "        image = cv2.rectangle(image, start_point, end_point, color, thickness)\n",
    "        label = detection.categories[0].category_name\n",
    "        confidence = detection.categories[0].score\n",
    "        text = f\"{label}: {confidence:.2f}\"\n",
    "        image = cv2.putText(image, text, start_point, cv2.FONT_HERSHEY_SIMPLEX, 0.5, color, 2)\n",
    "    return image\n",
    "\n",
    "image_copy = np.copy(image.numpy_view())\n",
    "annotated_image = visualize(image_copy, detection_result)\n",
    "rgb_annotated_image = cv2.cvtColor(annotated_image, cv2.COLOR_BGR2RGB)\n",
    "\n",
    "# Display the annotated image using matplotlib\n",
    "plt.imshow(rgb_annotated_image)\n",
    "plt.axis('off')\n",
    "plt.show()"
   ],
   "id": "96fdea832642fb79",
   "outputs": [],
   "execution_count": null
  }
 ],
 "metadata": {
  "kernelspec": {
   "display_name": "Python 3",
   "language": "python",
   "name": "python3"
  },
  "language_info": {
   "codemirror_mode": {
    "name": "ipython",
    "version": 2
   },
   "file_extension": ".py",
   "mimetype": "text/x-python",
   "name": "python",
   "nbconvert_exporter": "python",
   "pygments_lexer": "ipython2",
   "version": "2.7.6"
  }
 },
 "nbformat": 4,
 "nbformat_minor": 5
}
